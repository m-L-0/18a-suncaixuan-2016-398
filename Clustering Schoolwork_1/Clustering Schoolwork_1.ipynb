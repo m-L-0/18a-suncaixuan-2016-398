{
 "cells": [
  {
   "cell_type": "markdown",
   "metadata": {},
   "source": [
    "@author: 孙采萱-398\n",
    "\n",
    "要求：以谱聚类或者马尔科夫聚类对鸢尾花数据集进行处理，得到类似如下图所示（Normalized Cut），并输出正确率。\n",
    "步骤：\n",
    "1.计算距离矩阵（例如欧氏距离）\n",
    "2.利用KNN计算邻接矩阵 AA\n",
    "3.由 AA 计算度矩阵 DD 和拉普拉斯矩阵 LL\n",
    "4.标准化 L→D−1/2LD−1/2L→D−1/2LD−1/2\n",
    "5.对矩阵 D−1/2LD−1/2D−1/2LD−1/2 进行特征值分解，得到特征向量 HnnHnn\n",
    "6.将 HnnHnn 当成样本送入 Kmeans 聚类\n",
    "7.获得聚类结果 C=(C1,C2,⋯,Ck)\n",
    "8.求预测准确率"
   ]
  },
  {
   "cell_type": "code",
   "execution_count": 1,
   "metadata": {},
   "outputs": [],
   "source": [
    "import numpy as np\n",
    "import scipy\n",
    "from sklearn.cluster import KMeans\n",
    "from sklearn.metrics import accuracy_score"
   ]
  },
  {
   "cell_type": "code",
   "execution_count": 2,
   "metadata": {},
   "outputs": [],
   "source": [
    "#计算距离矩阵\n",
    "def euclidDistance(x1, x2, sqrt_flag=False):\n",
    "    res = np.sum((x1-x2)**2)\n",
    "    if sqrt_flag:\n",
    "        res = np.sqrt(res)\n",
    "    return res\n",
    "\n",
    "def calEuclidDistanceMatrix(X):\n",
    "    X = np.array(X)\n",
    "    S = np.zeros((len(X), len(X)))\n",
    "    for i in range(len(X)):\n",
    "        for j in range(i+1, len(X)):\n",
    "            S[i][j] = 1.0 * euclidDistance(X[i], X[j])\n",
    "            S[j][i] = S[i][j]\n",
    "    return S"
   ]
  },
  {
   "cell_type": "code",
   "execution_count": 3,
   "metadata": {},
   "outputs": [],
   "source": [
    "#利用KNN计算带权邻接矩阵 A\n",
    "def myKNN(S, k, sigma=2.0):\n",
    "    N = len(S)\n",
    "    A = np.zeros((N,N))\n",
    "\n",
    "    for i in range(N):\n",
    "        dist_with_index = zip(S[i], range(N))\n",
    "        dist_with_index = sorted(dist_with_index, key=lambda x:x[0])\n",
    "        neighbours_id = [dist_with_index[m][1] for m in range(k+1)] # xi's k nearest neighbours\n",
    "\n",
    "        for j in neighbours_id: # xj is xi's neighbour\n",
    "            A[i][j] = np.exp(-S[i][j]/2/sigma/sigma)\n",
    "            A[j][i] = A[i][j] # mutually\n",
    "    return A"
   ]
  },
  {
   "cell_type": "code",
   "execution_count": 4,
   "metadata": {},
   "outputs": [],
   "source": [
    "#标准化的拉普拉斯矩阵\n",
    "#由A计算度矩阵D和拉普拉斯矩阵L\n",
    "def laplacian(A):\n",
    "    \"\"\"Computes the symetric normalized laplacian.\n",
    "    L = D^{-1/2} A D{-1/2}\n",
    "    \"\"\"\n",
    "    D = np.zeros(A.shape)\n",
    "    w = np.sum(A, axis=0)\n",
    "    D.flat[::len(w) + 1] = w ** (-0.5)  # set the diag of D to w\n",
    "    return D.dot(A).dot(D)"
   ]
  },
  {
   "cell_type": "code",
   "execution_count": 5,
   "metadata": {},
   "outputs": [],
   "source": [
    "#k-means\n",
    "def k_means(X, n_clusters):\n",
    "    kmeans = KMeans(n_clusters=n_clusters, random_state=2)\n",
    "    return kmeans.fit(X).labels_"
   ]
  },
  {
   "cell_type": "code",
   "execution_count": 6,
   "metadata": {},
   "outputs": [],
   "source": [
    "#谱聚类\n",
    "def spectral_clustering(affinity, n_clusters, cluster_method=k_means):\n",
    "    L = laplacian(affinity)\n",
    "    eig_val, eig_vect = scipy.sparse.linalg.eigs(L, n_clusters)\n",
    "    X = eig_vect.real\n",
    "    rows_norm = np.linalg.norm(X, axis=1, ord=2)\n",
    "    Y = (X.T / rows_norm).T\n",
    "    labels = cluster_method(Y, n_clusters)\n",
    "    return labels"
   ]
  },
  {
   "cell_type": "code",
   "execution_count": 7,
   "metadata": {},
   "outputs": [],
   "source": [
    "if __name__ == '__main__':\n",
    "    import matplotlib.pyplot as plt\n",
    "\n",
    "#引入数据集  根据邻接矩阵进行聚类 \n",
    "    from sklearn import datasets\n",
    "    iris = datasets.load_iris()\n",
    "    data = np.array(iris.data)\n",
    "    lable = np.array(iris.target)\n",
    "    Similarity = calEuclidDistanceMatrix(data)\n",
    "    Adjacent = myKNN(Similarity, k=10)\n",
    "    Laplacian = laplacian(Adjacent)\n",
    "    x, V = np.linalg.eig(Laplacian)\n",
    "    x = zip(x, range(len(x)))\n",
    "    x = sorted(x, key=lambda x:x[0])\n",
    "    H = np.vstack([V[:,i] for (v, i) in x[:500]]).T\n",
    "    sp_kmeans = k_means(H,n_clusters=3)\n",
    "    pure_kmeans = k_means(data,n_clusters=3)"
   ]
  },
  {
   "cell_type": "code",
   "execution_count": 8,
   "metadata": {},
   "outputs": [
    {
     "data": {
      "image/png": "[encoded data removed]",
      "text/plain": [
       "<matplotlib.figure.Figure at 0x278470732e8>"
      ]
     },
     "metadata": {
      "needs_background": "light"
     },
     "output_type": "display_data"
    }
   ],
   "source": [
    "#将鸢尾花数据集画成图\n",
    "for i in range(len(lable)):\n",
    "    if lable[i] == 0:\n",
    "        plt.scatter(data[i,0], data[i,1],c=\"w\", edgecolors='b')\n",
    "    elif lable[i] == 1:\n",
    "        plt.scatter(data[i,0], data[i,1], c=\"w\", edgecolors='r')\n",
    "    else:\n",
    "        plt.scatter(data[i,0], data[i,1], c=\"w\", edgecolors='g')"
   ]
  },
  {
   "cell_type": "code",
   "execution_count": 9,
   "metadata": {},
   "outputs": [
    {
     "data": {
      "image/png": "[encoded data removed]",
      "text/plain": [
       "<matplotlib.figure.Figure at 0x27847073240>"
      ]
     },
     "metadata": {
      "needs_background": "light"
     },
     "output_type": "display_data"
    }
   ],
   "source": [
    "#将聚类结果可视化，重新转换成图的形式\n",
    "#用圆圈、三角和矩阵表示各个簇\n",
    "for i in range(len(data)):\n",
    "    if pure_kmeans[i] == 0:\n",
    "        plt.scatter(data[i,0], data[i,1],c=\"w\", edgecolors='k', marker=\"v\")  #三角\n",
    "    elif pure_kmeans[i] == 1:\n",
    "        plt.scatter(data[i,0], data[i,1], c=\"w\", edgecolors='k', marker=\"s\") #矩阵\n",
    "    else:\n",
    "        plt.scatter(data[i,0], data[i,1], c=\"w\", edgecolors='k', marker=\"o\") #圆圈"
   ]
  },
  {
   "cell_type": "code",
   "execution_count": 10,
   "metadata": {},
   "outputs": [
    {
     "name": "stdout",
     "output_type": "stream",
     "text": [
      "0.8933333333333333\n"
     ]
    }
   ],
   "source": [
    "#求分簇准确率\n",
    "score_pure = accuracy_score(lable,pure_kmeans)\n",
    "print(score_pure)"
   ]
  },
  {
   "cell_type": "markdown",
   "metadata": {},
   "source": [
    "分析：鸢尾花样本中存在重复的样本点；\n",
    "鸢尾花样本中有噪声点存在导致正确率不高；\n",
    "谱聚类适用于球形分类，鸢尾花样本集不属于球形"
   ]
  }
 ],
 "metadata": {
  "kernelspec": {
   "display_name": "Python 3",
   "language": "python",
   "name": "python3"
  },
  "language_info": {
   "codemirror_mode": {
    "name": "ipython",
    "version": 3
   },
   "file_extension": ".py",
   "mimetype": "text/x-python",
   "name": "python",
   "nbconvert_exporter": "python",
   "pygments_lexer": "ipython3",
   "version": "3.6.4"
  }
 },
 "nbformat": 4,
 "nbformat_minor": 2
}

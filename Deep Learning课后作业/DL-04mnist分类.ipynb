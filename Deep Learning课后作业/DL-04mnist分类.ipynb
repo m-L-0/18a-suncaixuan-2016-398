{
 "cells": [
  {
   "cell_type": "markdown",
   "metadata": {},
   "source": [
    "1.浮现代码"
   ]
  },
  {
   "cell_type": "code",
   "execution_count": null,
   "metadata": {},
   "outputs": [],
   "source": [
    "%matplotlib inline\n",
    "\n",
    "import numpy as np\n",
    "from PIL import Image\n",
    "from matplotlib import pyplot as plt\n",
    "\n",
    "import tensorflow as tf\n",
    "from tensorflow.examples.tutorials.mnist import input_data"
   ]
  },
  {
   "cell_type": "code",
   "execution_count": 2,
   "metadata": {},
   "outputs": [
    {
     "name": "stdout",
     "output_type": "stream",
     "text": [
      "Extracting MNIST_data\\train-images-idx3-ubyte.gz\n",
      "Extracting MNIST_data\\train-labels-idx1-ubyte.gz\n",
      "Extracting MNIST_data\\t10k-images-idx3-ubyte.gz\n",
      "Extracting MNIST_data\\t10k-labels-idx1-ubyte.gz\n"
     ]
    }
   ],
   "source": [
    "mnist = input_data.read_data_sets('MNIST_data',one_hot=True)"
   ]
  },
  {
   "cell_type": "code",
   "execution_count": 3,
   "metadata": {},
   "outputs": [
    {
     "data": {
      "text/plain": [
       "(55000, 784)"
      ]
     },
     "execution_count": 3,
     "metadata": {},
     "output_type": "execute_result"
    }
   ],
   "source": [
    "mnist.train.images.shape"
   ]
  },
  {
   "cell_type": "code",
   "execution_count": 4,
   "metadata": {},
   "outputs": [
    {
     "data": {
      "text/plain": [
       "<matplotlib.image.AxesImage at 0x1e118c03160>"
      ]
     },
     "execution_count": 4,
     "metadata": {},
     "output_type": "execute_result"
    },
    {
     "data": {
      "image/png": "[encoded data removed]",
      "text/plain": [
       "<Figure size 432x288 with 1 Axes>"
      ]
     },
     "metadata": {
      "needs_background": "light"
     },
     "output_type": "display_data"
    }
   ],
   "source": [
    "plt.imshow(Image.fromarray((mnist.train.images[1] * 255).astype(np.uint8).reshape([28,28])))"
   ]
  },
  {
   "cell_type": "code",
   "execution_count": 5,
   "metadata": {},
   "outputs": [
    {
     "data": {
      "text/plain": [
       "array([0., 0., 0., 1., 0., 0., 0., 0., 0., 0.])"
      ]
     },
     "execution_count": 5,
     "metadata": {},
     "output_type": "execute_result"
    }
   ],
   "source": [
    "mnist.train.labels[1]"
   ]
  },
  {
   "cell_type": "code",
   "execution_count": 6,
   "metadata": {},
   "outputs": [],
   "source": [
    "#获得批量样本\n",
    "batch_images,batch_labels = mnist.train.next_batch(32)"
   ]
  },
  {
   "cell_type": "code",
   "execution_count": 7,
   "metadata": {},
   "outputs": [
    {
     "data": {
      "text/plain": [
       "(32, 784)"
      ]
     },
     "execution_count": 7,
     "metadata": {},
     "output_type": "execute_result"
    }
   ],
   "source": [
    "batch_images.shape"
   ]
  },
  {
   "cell_type": "code",
   "execution_count": 8,
   "metadata": {},
   "outputs": [
    {
     "data": {
      "text/plain": [
       "(32, 10)"
      ]
     },
     "execution_count": 8,
     "metadata": {},
     "output_type": "execute_result"
    }
   ],
   "source": [
    "batch_labels.shape"
   ]
  },
  {
   "cell_type": "code",
   "execution_count": 23,
   "metadata": {},
   "outputs": [],
   "source": [
    "with tf.Graph().as_default() as g:\n",
    "    \n",
    "    #输入层\n",
    "    inputs = tf.placeholder(shape=[None,784],dtype=tf.float32)\n",
    "    labels = tf.placeholder(shape=[None,10],dtype=tf.float32)\n",
    "    \n",
    "    #8.改进\n",
    "   \n",
    "    #创建128个隐藏层神经元参数\n",
    "    hidden_weight = tf.Variable(tf.random_normal([784, 128]), name='hidden_weight')\n",
    "    hidden_bias = tf.Variable(tf.zeros([128, ]), name='hidden_bias')\n",
    "    # 隐藏层前向传播\n",
    "    hidden_output = tf.nn.relu(tf.matmul(inputs, hidden_weight) + hidden_bias)\n",
    "    \n",
    "    # 创建输出层10个神经元参数\n",
    "    out_weight = tf.Variable(tf.random_normal([128, 10]))\n",
    "    #偏置值一般用0初始化\n",
    "    out_bias = tf.Variable(tf.zeros([10, ]))\n",
    "     #6.可以使用正态分布、均匀分布初始化参数\n",
    "    #out_weight = tf.Variable(tf.random_normal_initializer([784,10]))\n",
    "    #out_bias = tf.Variable(tf.random_normal_initializer([10,]))\n",
    "    \n",
    "    # 输出层前向传播\n",
    "    out_z = tf.matmul(hidden_output,out_weight) + out_bias  # out_z=logits\n",
    "    output = tf.nn.softmax(out_z)      # [None,10]\n",
    "    #5.可以使用不同的激活函数，例如sigmoid函数\n",
    "    #logits = 1 / (1+np.exp(inputs))\n",
    "    \n",
    "    loss = tf.reduce_mean(\n",
    "        - tf.reduce_sum(labels * tf.log(output + 1e-17),axis=1))\n",
    "    \n",
    "    acc = tf.reduce_mean(                                                #求均值#转换为float tf.cast\n",
    "        tf.cast(tf.equal(tf.argmax(output,axis=1),tf.argmax(labels,axis=1)),tf.float32)) #返回相等的数量tf.equal  \n",
    "    \n",
    "    optim = tf.train.GradientDescentOptimizer(learning_rate=0.01) #优化器\n",
    "    #4.使用不同大小的学习率进行实验\n",
    "    #optim = tf.train.GradientDescentOptimizer(learning_rate=0.1)\n",
    "    train_op = optim.minimize(loss)"
   ]
  },
  {
   "cell_type": "code",
   "execution_count": 29,
   "metadata": {},
   "outputs": [
    {
     "name": "stdout",
     "output_type": "stream",
     "text": [
      "i     0, loss 27.8602, acc 0.1256\n",
      "i   500, loss 19.2614, acc 0.5628\n",
      "i  1000, loss 14.2166, acc 0.6388\n",
      "i  1500, loss 9.2098, acc 0.7219\n",
      "i  2000, loss 5.9280, acc 0.7520\n",
      "i  2500, loss 6.8402, acc 0.7953\n",
      "i  3000, loss 6.3750, acc 0.8442\n",
      "i  3500, loss 1.8977, acc 0.8548\n",
      "i  4000, loss 3.8901, acc 0.8661\n",
      "i  4500, loss 4.9397, acc 0.8669\n",
      "i  5000, loss 5.0841, acc 0.8743\n",
      "i  5500, loss 1.5298, acc 0.8806\n",
      "i  6000, loss 6.0664, acc 0.8850\n",
      "i  6500, loss 4.2183, acc 0.8840\n",
      "i  7000, loss 1.9783, acc 0.8928\n",
      "i  7500, loss 1.7926, acc 0.8938\n",
      "i  8000, loss 2.2860, acc 0.8929\n",
      "i  8500, loss 0.8165, acc 0.8984\n",
      "i  9000, loss 3.5780, acc 0.8972\n",
      "i  9500, loss 1.6916, acc 0.8993\n"
     ]
    }
   ],
   "source": [
    "with tf.Session(graph=g) as sess:\n",
    "    sess.run(tf.global_variables_initializer())    #初始化变量\n",
    "    #使用不同大小的批次进行实验\n",
    "    for i in range(10000):\n",
    "        batch_images,batch_labels = \\\n",
    "        mnist.train.next_batch(32)\n",
    "        \n",
    "        res_loss,_ = sess.run([loss,train_op],\n",
    "                              feed_dict={inputs: batch_images,\n",
    "                                         labels: batch_labels\n",
    "                                        })\n",
    "        if i % 500 == 0:\n",
    "            accs = []\n",
    "            for j in range(10000 // 32):\n",
    "            #for j in range(10000 // 16):    \n",
    "                batch_images,batch_labels = \\\n",
    "                     mnist.test.next_batch(32)\n",
    "                res_acc = sess.run(\n",
    "                    acc,\n",
    "                    feed_dict={inputs: batch_images,\n",
    "                               labels: batch_labels\n",
    "                              })\n",
    "                accs.append(res_acc)\n",
    "            accs = np.mean(accs)\n",
    "            \n",
    "            print('i %5d, loss %2.4f, acc %.4f' % (i, res_loss, accs))"
   ]
  },
  {
   "cell_type": "markdown",
   "metadata": {},
   "source": [
    "7.思考如何改进模型以使得模型性能增强\n",
    "增大数据集，给模型提供更多的数据，剔除没有效用的数据；人工分析误差；分析模型的偏差和方差；"
   ]
  },
  {
   "cell_type": "markdown",
   "metadata": {},
   "source": [
    "1-6/8见代码注释"
   ]
  },
  {
   "cell_type": "code",
   "execution_count": null,
   "metadata": {},
   "outputs": [],
   "source": []
  }
 ],
 "metadata": {
  "kernelspec": {
   "display_name": "Python 3",
   "language": "python",
   "name": "python3"
  },
  "language_info": {
   "codemirror_mode": {
    "name": "ipython",
    "version": 3
   },
   "file_extension": ".py",
   "mimetype": "text/x-python",
   "name": "python",
   "nbconvert_exporter": "python",
   "pygments_lexer": "ipython3",
   "version": "3.6.4"
  }
 },
 "nbformat": 4,
 "nbformat_minor": 2
}

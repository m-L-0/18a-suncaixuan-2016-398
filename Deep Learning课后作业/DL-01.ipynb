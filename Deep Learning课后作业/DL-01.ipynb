{
 "cells": [
  {
   "cell_type": "markdown",
   "metadata": {},
   "source": [
    "1、判断\n",
    "\n",
    "互连神经元的连接强度，即突触权值，用于存储获取的知识。（√）\n",
    "阶跃函数输出 “0” 时表示神经元兴奋。（×）\n",
    "循环神经网络是一种递归神经网络。（√）\n",
    "强化学习是无教师学习。（√）\n",
    "sgn函数是一种S型函数（Sigmoid函数）（×）\n",
    "训练好的神经网络去除一个神经元，整个神经网络就无法工作。（×）\n",
    "神经元的激活函数不能是线性函数。（×）\n",
    "使用神经网络进行模式分类可以得到分类概率。（√）\n",
    "M-P模型是一种单层前馈神经网络模型。（√）\n",
    "神经网络擅长处理计算机视觉任务，所以一切计算机视觉问题使用神经网络解决都是最好的（×）"
   ]
  },
  {
   "cell_type": "markdown",
   "metadata": {},
   "source": [
    "2、选择题\n",
    "\n",
    "神经网络的基本要素包括（ ABD ）\n",
    "A. 突触\n",
    "B. 加法器\n",
    "C. S型函数\n",
    "D. 激活函数\n",
    "\n",
    "神经网络的性质与能力中不包括（ D ）\n",
    "A. 容错性\n",
    "B. 超大规模集成实现\n",
    "C. 自适应性\n",
    "D. 确定性\n",
    "\n",
    "关于监督学习的理解错误的是（ AC ）\n",
    "A. 神经网络无法在没有标签的数据中学习知识。\n",
    "B. 监督学习也被称为有教师学习。\n",
    "C. 强化学习是一种监督学习。\n",
    "D. 监督学习是利用带有标签的数据训练模型使模型尽量输出与标记一致的结果。\n",
    "\n",
    "以下哪些模型不属于神经网络模型（ B ）\n",
    "A. RBF网络\n",
    "B. SVM\n",
    "C. RNN\n",
    "D. SOM网络"
   ]
  },
  {
   "cell_type": "markdown",
   "metadata": {},
   "source": [
    "3、Python环境下使用Numpy编写Sgn、Logistic激活函数"
   ]
  },
  {
   "cell_type": "code",
   "execution_count": 1,
   "metadata": {},
   "outputs": [],
   "source": [
    "import numpy as np\n",
    "\n",
    "#Sgn符号函数\n",
    "def sgn(x):\n",
    "    if x >= 0:\n",
    "        return 1\n",
    "    else:\n",
    "        return 0\n",
    "    \n",
    "#Logistic函数    \n",
    "def logistic(x):\n",
    "    return 1/(1+np.exp(-x))"
   ]
  },
  {
   "cell_type": "code",
   "execution_count": null,
   "metadata": {},
   "outputs": [],
   "source": []
  }
 ],
 "metadata": {
  "kernelspec": {
   "display_name": "Python 3",
   "language": "python",
   "name": "python3"
  },
  "language_info": {
   "codemirror_mode": {
    "name": "ipython",
    "version": 3
   },
   "file_extension": ".py",
   "mimetype": "text/x-python",
   "name": "python",
   "nbconvert_exporter": "python",
   "pygments_lexer": "ipython3",
   "version": "3.6.4"
  }
 },
 "nbformat": 4,
 "nbformat_minor": 2
}

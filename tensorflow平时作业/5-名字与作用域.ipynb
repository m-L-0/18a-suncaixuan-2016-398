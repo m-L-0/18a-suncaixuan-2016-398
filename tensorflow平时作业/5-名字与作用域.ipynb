{
 "cells": [
  {
   "cell_type": "markdown",
   "metadata": {},
   "source": [
    "总结name_scope与variable_scope的作用以及异同点"
   ]
  },
  {
   "cell_type": "markdown",
   "metadata": {},
   "source": [
    "//name_scope作用：不同功能节点加以区分，管理节点名字和作用域\n",
    "//variable_scope作用：管理变量作用域以及变量相关的操作\n",
    "//相同：给不同操作划分作用范围\n",
    "//不同：variable_scope功能更丰富，可以与get_variable()配合使用完成对变量的重复使用"
   ]
  },
  {
   "cell_type": "markdown",
   "metadata": {},
   "source": [
    "构建逻辑回归模型（只有模型部分，不包括训练部分），使用get_variable与#variable_scope将变量的创建与使用分开。\n",
    "提示：使用tf.nn.sigmoid实现logistic函数。"
   ]
  },
  {
   "cell_type": "code",
   "execution_count": null,
   "metadata": {},
   "outputs": [],
   "source": [
    "import tensorflow as tf\n",
    "\n",
    "batch_size = 100\n",
    "\n",
    "x = tf.placeholder(tf.float32)\n",
    "y = tf.placeholder(tf.float32)\n",
    "with tf.variable_scope('wb',reuse=None) as scope:\n",
    "    w = tf.get_variable('w_',dtype=tf.float32,shape=[])\n",
    "    b = tf.get_variable('b_',dtype=tf.float32,shape=[])\n",
    "    \n",
    "scope.reuse_variables()\n",
    "\n",
    "w = tf.get_variable('w_')\n",
    "b = tf.get_variable('b_')\n",
    "w = tf.assign(tf.zeros([1]))\n",
    "b = tf.assign(tf.zeros([1]))\n",
    "\n",
    "#构建逻辑回归模型\n",
    "pred = tf.nn.sigmoid(tf.matmul(x,w) + b)\n",
    "\n",
    "#损失函数（交叉熵）\n",
    "cost = tf.reduce_mean(-tf.reduce_sum(y*tf.log(pred),1))\n",
    "\n",
    "#梯度下降\n",
    "optimizer = tf.train.GradientDescentOptimizer(0.01).minimize(cost)\n",
    "\n",
    "#初始化所有变量值\n",
    "init = tf.global_variables_initializer()"
   ]
  }
 ],
 "metadata": {
  "kernelspec": {
   "display_name": "Python 3",
   "language": "python",
   "name": "python3"
  },
  "language_info": {
   "codemirror_mode": {
    "name": "ipython",
    "version": 3
   },
   "file_extension": ".py",
   "mimetype": "text/x-python",
   "name": "python",
   "nbconvert_exporter": "python",
   "pygments_lexer": "ipython3",
   "version": "3.6.4"
  }
 },
 "nbformat": 4,
 "nbformat_minor": 2
}

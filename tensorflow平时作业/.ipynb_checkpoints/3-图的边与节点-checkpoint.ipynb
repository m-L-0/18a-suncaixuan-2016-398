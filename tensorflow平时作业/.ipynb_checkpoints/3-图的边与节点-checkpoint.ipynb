{
 "cells": [
  {
   "cell_type": "markdown",
   "metadata": {},
   "source": [
    "有一4阶张量img其shape=[10, 28, 28, 3])，代表10张28*28像素的3通道RGB图像，问："
   ]
  },
  {
   "cell_type": "code",
   "execution_count": null,
   "metadata": {},
   "outputs": [],
   "source": [
    "#如何利用索引取出第2张图片\n",
    "img_2 = img[1]"
   ]
  },
  {
   "cell_type": "code",
   "execution_count": null,
   "metadata": {},
   "outputs": [],
   "source": [
    "#如何利用切片取出第2张图片\n",
    "img_2_1 = tf.slice(img,[1,0,0,0],[1,28,28,3])"
   ]
  },
  {
   "cell_type": "code",
   "execution_count": null,
   "metadata": {},
   "outputs": [],
   "source": [
    "#使用切片与使用索引取出的一张图片有何不同\n",
    "#切片得到的阶和原图一样为4，索引得出来的阶为3\n",
    "#切片是以段为单位，索引是点"
   ]
  },
  {
   "cell_type": "code",
   "execution_count": null,
   "metadata": {},
   "outputs": [],
   "source": [
    "#如何取出其中的第1、3、5、7张图片\n",
    "img_1_7 = img[0:8:2]"
   ]
  },
  {
   "cell_type": "code",
   "execution_count": null,
   "metadata": {},
   "outputs": [],
   "source": [
    "#如何取出第6-8张（包括6不包括8）图片中中心区域（14*14）的部分\n",
    "img_6_8 = img[5:6,6:20,6:20]"
   ]
  },
  {
   "cell_type": "code",
   "execution_count": null,
   "metadata": {},
   "outputs": [],
   "source": [
    "#如何将图片根据通道拆分成三份单通道图片\n",
    "img_01 = tf.slice(img,[0,0,0,0],[10,28,28,1])\n",
    "img_02 = tf.slice(img,[0,0,0,1],[10,28,28,1])\n",
    "img_03 = tf.slice(img,[0,0,0,2],[10,28,28,1])"
   ]
  },
  {
   "cell_type": "code",
   "execution_count": null,
   "metadata": {},
   "outputs": [],
   "source": [
    "#写出tf.shape(img)返回的张量的阶数以及shape属性的值\n",
    "#4;[10,28,28,3]"
   ]
  }
 ],
 "metadata": {
  "kernelspec": {
   "display_name": "Python 3",
   "language": "python",
   "name": "python3"
  },
  "language_info": {
   "codemirror_mode": {
    "name": "ipython",
    "version": 3
   },
   "file_extension": ".py",
   "mimetype": "text/x-python",
   "name": "python",
   "nbconvert_exporter": "python",
   "pygments_lexer": "ipython3",
   "version": "3.6.4"
  }
 },
 "nbformat": 4,
 "nbformat_minor": 2
}

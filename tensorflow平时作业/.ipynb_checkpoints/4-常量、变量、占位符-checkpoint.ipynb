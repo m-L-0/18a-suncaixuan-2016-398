{
 "cells": [
  {
   "cell_type": "markdown",
   "metadata": {},
   "source": [
    "1、构建二元线性回归模型，其中模型中的参数使用tf.Variable()构建，模型的样本输入使用tf.placeholder代替。"
   ]
  },
  {
   "cell_type": "code",
   "execution_count": null,
   "metadata": {},
   "outputs": [],
   "source": [
    "import tensorflow as tf\n",
    "\n",
    "W = tf.Variable(tf.zeros([1]))\n",
    "b = tf.Variable(tf.zeros([1]))\n",
    "x = tf.placeholder(tf.float32)\n",
    "y_ = tf.placeholder(tf.float32)\n",
    "\n",
    "#定义模型\n",
    "y = tf.add(tf.multiply(W,x),b)\n",
    "\n",
    "#定义损失函数\n",
    "lost = tf.reduce_mean(tf.square(y-y_))\n",
    "optimizer = tf.train.GradientDescentOptimizer(0.0000001)\n",
    "train_step = optimizer.minimize(lost)\n",
    "\n",
    "#优化函数(梯度下降法)\n",
    "optimizer = tf.train.GradientDescentOptimizer(0.0000001)\n",
    "train_step = optimizer.minimize(lost)\n",
    "\n",
    "#变量初始化\n",
    "sess = tf.Session()\n",
    "init = tf.global_variables_initializer()\n",
    "sess.run(init)\n",
    "\n",
    "#训练\n",
    "steps = 1000\n",
    "for i in range(steps):\n",
    "    xs = train_x\n",
    "    ys = train_y\n",
    "    sess.run(train_step, feed_dict={ x: xs, y_: ys })"
   ]
  }
 ],
 "metadata": {
  "kernelspec": {
   "display_name": "Python 3",
   "language": "python",
   "name": "python3"
  },
  "language_info": {
   "codemirror_mode": {
    "name": "ipython",
    "version": 3
   },
   "file_extension": ".py",
   "mimetype": "text/x-python",
   "name": "python",
   "nbconvert_exporter": "python",
   "pygments_lexer": "ipython3",
   "version": "3.6.4"
  }
 },
 "nbformat": 4,
 "nbformat_minor": 2
}

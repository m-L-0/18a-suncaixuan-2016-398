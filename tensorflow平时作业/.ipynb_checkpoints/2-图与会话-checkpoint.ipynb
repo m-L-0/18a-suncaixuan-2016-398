{
 "cells": [
  {
   "cell_type": "markdown",
   "metadata": {},
   "source": [
    "1、在一个notebook文件中构建一张图，实现两个数的加法操作，\n",
    "   并在两个不同的会话中执行图"
   ]
  },
  {
   "cell_type": "code",
   "execution_count": 1,
   "metadata": {},
   "outputs": [
    {
     "name": "stdout",
     "output_type": "stream",
     "text": [
      "7\n",
      "7\n"
     ]
    }
   ],
   "source": [
    "import tensorflow as tf\n",
    "\n",
    "g = tf.Graph()\n",
    "with g.as_default():\n",
    "    m = tf.add(3,4)\n",
    "    #会话一\n",
    "    sess = tf.Session(graph=g)\n",
    "    print(sess.run(m))\n",
    "    sess.close()\n",
    "    #会话二\n",
    "    with tf.Session(graph=g) as sess:\n",
    "        print(sess.run(m))"
   ]
  },
  {
   "cell_type": "markdown",
   "metadata": {},
   "source": [
    "2、查找资料学习TensorFlow中执行常量基本运算API的基本用法\n",
    "   如tf.add、tf.subtract、tf.multiply、tf.divide、tf.mod、\n",
    "     tf.pow、tf.square、tf.sqrt等的用法,并在notebook中演示其基本用法"
   ]
  },
  {
   "cell_type": "code",
   "execution_count": 13,
   "metadata": {},
   "outputs": [
    {
     "name": "stdout",
     "output_type": "stream",
     "text": [
      "5\n",
      "3\n",
      "12\n",
      "2\n",
      "81\n",
      "9\n",
      "3.0\n"
     ]
    }
   ],
   "source": [
    "import tensorflow as tf\n",
    "\n",
    "a=tf.add(2,3)\n",
    "b=tf.subtract(5,2)\n",
    "c=tf.multiply(3,4)\n",
    "d=tf.divide(1,2)\n",
    "e=tf.mod(5,3)\n",
    "f=tf.pow(3,4)\n",
    "g=tf.square(3)\n",
    "h=tf.sqrt(9.0)//必须输入浮点数\n",
    "with tf.Session() as sess:\n",
    "    print(sess.run(a))\n",
    "    print(sess.run(b))\n",
    "    print(sess.run(c))\n",
    "    print(sess.run(e))\n",
    "    print(sess.run(f))\n",
    "    print(sess.run(g))\n",
    "    print(sess.run(h))"
   ]
  },
  {
   "cell_type": "code",
   "execution_count": null,
   "metadata": {},
   "outputs": [],
   "source": []
  }
 ],
 "metadata": {
  "kernelspec": {
   "display_name": "Python 3",
   "language": "python",
   "name": "python3"
  },
  "language_info": {
   "codemirror_mode": {
    "name": "ipython",
    "version": 3
   },
   "file_extension": ".py",
   "mimetype": "text/x-python",
   "name": "python",
   "nbconvert_exporter": "python",
   "pygments_lexer": "ipython3",
   "version": "3.6.4"
  }
 },
 "nbformat": 4,
 "nbformat_minor": 2
}

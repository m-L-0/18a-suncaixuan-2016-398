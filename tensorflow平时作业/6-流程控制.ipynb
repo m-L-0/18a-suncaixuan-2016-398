{
 "cells": [
  {
   "cell_type": "markdown",
   "metadata": {},
   "source": [
    "1.设计一个函数，要求输入两个shape、dtype一样的张量，输出一个同样shape、dtype的张量，并且输出的张量中的元素的每一个值都是输入的两个张量中对应元素最大的。即模拟tf.maximum的功能，但不能直接使用此函数"
   ]
  },
  {
   "cell_type": "code",
   "execution_count": 2,
   "metadata": {},
   "outputs": [
    {
     "name": "stdout",
     "output_type": "stream",
     "text": [
      "[2 5 6]\n"
     ]
    }
   ],
   "source": [
    "import tensorflow as tf\n",
    "\n",
    "def max(a,b):\n",
    "    c = tf.where(tf.less_equal(a,b),b,a)\n",
    "    return c\n",
    "\n",
    "x = tf.constant([2,4,6])\n",
    "y = tf.constant([1,5,3])\n",
    "m = max(x,y)\n",
    "\n",
    "with tf.Session() as sess:\n",
    "    print(sess.run(m))"
   ]
  },
  {
   "cell_type": "markdown",
   "metadata": {},
   "source": [
    "2.了解tf.minimum、tf.maximum的用法"
   ]
  },
  {
   "cell_type": "markdown",
   "metadata": {},
   "source": [
    "tf.maximum 函数\n",
    "\n",
    "maximum( x, y, name=None ) 返回 x 和 y 的最大值（即表达式：x > y ? x : y）\n",
    "参数： x：张量。必须是下列类型之一：half，float32，float64，int32，int64。 y：张量。必须与 x 具有相同的类型。 name：操作的名称（可选）。\n",
    "返回值： 该函数将返回一个张量并且与 x 具有相同的类型\n",
    "\n",
    "tf.minimum 函数\n",
    "\n",
    "minimum( x, y, name=None ) 返回 x 和 y 的最小值（即表达式：x < y ? x : y）\n",
    "参数： x：张量。必须是下列类型之一：half，float32，float64，int32，int64。 y：张量。必须与 x 具有相同的类型。 name：操作的名称（可选）。\n",
    "返回值： 该函数将返回一个张量并且与 x 具有相同的类型。"
   ]
  },
  {
   "cell_type": "code",
   "execution_count": 3,
   "metadata": {},
   "outputs": [
    {
     "name": "stdout",
     "output_type": "stream",
     "text": [
      "[2 5 4]\n",
      "[1 3 3]\n"
     ]
    }
   ],
   "source": [
    "a=tf.constant([1,5,3])\n",
    "b=tf.constant([2,3,4])\n",
    "\n",
    "max_1=tf.maximum(a,b)\n",
    "min_1=tf.minimum(a,b)\n",
    "\n",
    "with tf.Session() as sess:\n",
    "    print(sess.run(max_1))\n",
    "    print(sess.run(min_1))"
   ]
  },
  {
   "cell_type": "code",
   "execution_count": null,
   "metadata": {},
   "outputs": [],
   "source": []
  }
 ],
 "metadata": {
  "kernelspec": {
   "display_name": "Python 3",
   "language": "python",
   "name": "python3"
  },
  "language_info": {
   "codemirror_mode": {
    "name": "ipython",
    "version": 3
   },
   "file_extension": ".py",
   "mimetype": "text/x-python",
   "name": "python",
   "nbconvert_exporter": "python",
   "pygments_lexer": "ipython3",
   "version": "3.6.4"
  }
 },
 "nbformat": 4,
 "nbformat_minor": 2
}

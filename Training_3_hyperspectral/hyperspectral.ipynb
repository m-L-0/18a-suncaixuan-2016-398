{
 "cells": [
  {
   "cell_type": "markdown",
   "metadata": {},
   "source": [
    "@author: 孙采萱-398\n",
    "实训题目：9个类别的高光谱数据分类\n",
    "使用模型：SVC\n",
    "\"\"\""
   ]
  },
  {
   "cell_type": "code",
   "execution_count": 1,
   "metadata": {},
   "outputs": [],
   "source": [
    "import joblib\n",
    "from sklearn.model_selection import train_test_split\n",
    "import numpy as np\n",
    "from sklearn.svm import SVC\n",
    "from sklearn import metrics\n",
    "from sklearn import preprocessing\n",
    "import pandas as pd\n",
    "import scipy.io as sio"
   ]
  },
  {
   "cell_type": "code",
   "execution_count": null,
   "metadata": {},
   "outputs": [],
   "source": [
    "#训练集按照以下形式将.mat转换为.csv\n",
    "'''\n",
    "dataFile = '/Users/Administrator/Desktop/项目实训/Schoolwork_2/9-train/data2_train.mat'\n",
    "data = sio.loadmat(dataFile)\n",
    "print(data)\n",
    "data1 = data['data2_train']\n",
    "dfdata = pd.DataFrame(data1)\n",
    "datapath1 ='/Users/Administrator/Desktop/项目实训/Schoolwork_2/train/01.csv'\n",
    "dfdata.to_csv(datapath1,index = False)\n",
    "'''"
   ]
  },
  {
   "cell_type": "code",
   "execution_count": null,
   "metadata": {},
   "outputs": [],
   "source": [
    "#将转换后的数据进行处理，添加标签，合并9类别数据\n",
    "data1 = np.array(pd.read_csv('train1/01.csv'))\n",
    "data2 = np.array(pd.read_csv('train1/02.csv'))\n",
    "data3 = np.array(pd.read_csv('train1/03.csv'))\n",
    "data4 = np.array(pd.read_csv('train1/04.csv'))\n",
    "data5 = np.array(pd.read_csv('train1/05.csv'))\n",
    "data6 = np.array(pd.read_csv('train1/06.csv'))\n",
    "data7 = np.array(pd.read_csv('train1/07.csv'))\n",
    "data8 = np.array(pd.read_csv('train1/08.csv'))\n",
    "data9 = np.array(pd.read_csv('train1/09.csv'))\n",
    "data = np.vstack((data1,data2,data3,data4,data5,data6,data7,data8,data9))"
   ]
  },
  {
   "cell_type": "code",
   "execution_count": null,
   "metadata": {},
   "outputs": [],
   "source": [
    "#标准化数据并存储\n",
    "data_D = preprocessing.StandardScaler().fit_transform(data[:,:-1])\n",
    "data_L = data[:,-1]\n",
    "\n",
    "# 将结果存档后续处理\n",
    "import pandas as pd\n",
    "new = np.column_stack((data_D,data_L))\n",
    "new_ = pd.DataFrame(new)\n",
    "new_.to_csv('train1/KSC.csv',header=False,index=False)"
   ]
  },
  {
   "cell_type": "code",
   "execution_count": 5,
   "metadata": {},
   "outputs": [],
   "source": [
    "# 导入数据集切割训练与测试数据\n",
    "data = pd.read_csv('train1/KSC.csv',header=None)\n",
    "data = data.as_matrix()\n",
    "data_D = data[:,:-1]\n",
    "data_L = data[:,-1]\n",
    "data_train, data_test, label_train, label_test = train_test_split(data_D,data_L,test_size=0.2)"
   ]
  },
  {
   "cell_type": "code",
   "execution_count": 6,
   "metadata": {},
   "outputs": [
    {
     "name": "stdout",
     "output_type": "stream",
     "text": [
      "94.14739884393065\n"
     ]
    }
   ],
   "source": [
    "# 模型训练与拟合\n",
    "clf = SVC(kernel='rbf',gamma=0.0045,C=35,random_state=2)\n",
    "clf.fit(data_train,label_train)\n",
    "pred = clf.predict(data_test)\n",
    "accuracy = metrics.accuracy_score(label_test, pred)*100\n",
    "print(accuracy)"
   ]
  },
  {
   "cell_type": "code",
   "execution_count": null,
   "metadata": {},
   "outputs": [],
   "source": [
    "# 存储结果学习模型，方便之后的调用\n",
    "joblib.dump(clf, \"KSC1_MODEL.m\")"
   ]
  },
  {
   "cell_type": "code",
   "execution_count": 4,
   "metadata": {},
   "outputs": [
    {
     "name": "stdout",
     "output_type": "stream",
     "text": [
      "91.51851851851852\n"
     ]
    }
   ],
   "source": [
    "#测试\n",
    "testdata = np.genfromtxt('train/KSC.csv',delimiter=',')\n",
    "data_test = testdata[:,:-1]\n",
    "label_test = testdata[:,-1]\n",
    "\n",
    "clf = joblib.load(\"KSC4_MODEL.m\")\n",
    "predict_label = clf.predict(data_test)\n",
    "accuracy = metrics.accuracy_score(label_test, predict_label)*100\n",
    "print(accuracy)"
   ]
  },
  {
   "cell_type": "code",
   "execution_count": null,
   "metadata": {},
   "outputs": [],
   "source": [
    "#导入测试集\n",
    "#将.mat转换为.csv\n",
    "dataFile = '/Users/Administrator/Desktop/项目实训/Schoolwork_2/data_test_final.mat'\n",
    "data = sio.loadmat(dataFile)\n",
    "print(data)\n",
    "data1 = data['data_test_final']\n",
    "dfdata = pd.DataFrame(data1)\n",
    "datapath1 ='/Users/Administrator/Desktop/项目实训/Schoolwork_2/data_test.csv'\n",
    "dfdata.to_csv(datapath1,index = False)\n",
    "\n",
    "#规范化测试集\n",
    "data_test0=open('/Users/Administrator/Desktop/项目实训/Schoolwork_2/data_test.csv')\n",
    "data_test=pd.read_csv(data_test0)\n",
    "data_D = preprocessing.StandardScaler().fit_transform(data_test)\n",
    "\n",
    "#进行预测\n",
    "fx = joblib.load(\"KSC1_MODEL.m\")\n",
    "\n",
    "mx1 = fx.predict(data_D)\n",
    "import csv\n",
    "with open(\"D:/result.csv\",\"w\") as csvfile: \n",
    "    writer = csv.writer(csvfile)\n",
    "    writer.writerow(mx1)\n",
    "    csvfile.close()"
   ]
  }
 ],
 "metadata": {
  "kernelspec": {
   "display_name": "Python 3",
   "language": "python",
   "name": "python3"
  },
  "language_info": {
   "codemirror_mode": {
    "name": "ipython",
    "version": 3
   },
   "file_extension": ".py",
   "mimetype": "text/x-python",
   "name": "python",
   "nbconvert_exporter": "python",
   "pygments_lexer": "ipython3",
   "version": "3.6.4"
  }
 },
 "nbformat": 4,
 "nbformat_minor": 2
}

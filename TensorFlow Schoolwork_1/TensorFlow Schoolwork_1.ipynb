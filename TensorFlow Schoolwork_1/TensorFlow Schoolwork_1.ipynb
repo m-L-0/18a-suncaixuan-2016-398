{
 "cells": [
  {
   "cell_type": "markdown",
   "metadata": {},
   "source": [
    "@author 16-孙采萱-398\n",
    "使用TensorFlow设计K近邻模型，并使用鸢尾花数据集训练、验证模型"
   ]
  },
  {
   "cell_type": "code",
   "execution_count": 1,
   "metadata": {},
   "outputs": [],
   "source": [
    "import numpy as np\n",
    "import pandas as pd\n",
    "import tensorflow as tf\n",
    "from sklearn.model_selection import train_test_split"
   ]
  },
  {
   "cell_type": "code",
   "execution_count": 2,
   "metadata": {},
   "outputs": [],
   "source": [
    "#这里使用本地数据集作为测试，以下是导入数据集代码 \n",
    "iris = pd.read_csv('iris.csv')\n",
    "iris1= iris.drop('Y', 1)\n",
    "\n",
    "#将鸢尾花数据集安装8 : 2的比例划分成训练集与验证集\n",
    "Xtrain, Xtest, Ytrain, Ytest = train_test_split(iris1, iris['Y'], test_size=0.20,random_state=40)\n",
    "\n",
    "#格式转换\n",
    "train_data = np.array(Xtrain)#np.ndarray()\n",
    "text_data = np.array(Xtest)\n",
    "\n",
    "Xtrain=train_data.tolist()#list\n",
    "Xtest=text_data.tolist()\n",
    "Ytest = list(Ytest)\n",
    "Ytrain = list(Ytrain)"
   ]
  },
  {
   "cell_type": "code",
   "execution_count": 3,
   "metadata": {},
   "outputs": [],
   "source": [
    "# 输入占位符，数据样本有四个特征值\n",
    "xtr = tf.placeholder(\"float\", [None, 4])\n",
    "xte = tf.placeholder(\"float\", [4])"
   ]
  },
  {
   "cell_type": "code",
   "execution_count": 4,
   "metadata": {},
   "outputs": [],
   "source": [
    "# 计算L1距离\n",
    "distance = tf.reduce_sum(tf.abs(tf.add(xtr, tf.negative(xte))), reduction_indices=1)"
   ]
  },
  {
   "cell_type": "code",
   "execution_count": 5,
   "metadata": {},
   "outputs": [],
   "source": [
    "# 获取最小距离的索引\n",
    "pred = tf.arg_min(distance, 0)"
   ]
  },
  {
   "cell_type": "code",
   "execution_count": 6,
   "metadata": {},
   "outputs": [],
   "source": [
    "#分类精确度\n",
    "accuracy = 0."
   ]
  },
  {
   "cell_type": "code",
   "execution_count": 7,
   "metadata": {},
   "outputs": [],
   "source": [
    "# 初始化变量\n",
    "init = tf.global_variables_initializer()"
   ]
  },
  {
   "cell_type": "code",
   "execution_count": 8,
   "metadata": {},
   "outputs": [
    {
     "name": "stdout",
     "output_type": "stream",
     "text": [
      "Sample 0  - 预测: Iris-setosa 正确: Iris-setosa\n",
      "Sample 1  - 预测: Iris-versicolor 正确: Iris-versicolor\n",
      "Sample 2  - 预测: Iris-virginica 正确: Iris-virginica\n",
      "Sample 3  - 预测: Iris-virginica 正确: Iris-virginica\n",
      "Sample 4  - 预测: Iris-versicolor 正确: Iris-versicolor\n",
      "Sample 5  - 预测: Iris-virginica 正确: Iris-virginica\n",
      "Sample 6  - 预测: Iris-versicolor 正确: Iris-versicolor\n",
      "Sample 7  - 预测: Iris-versicolor 正确: Iris-versicolor\n",
      "Sample 8  - 预测: Iris-versicolor 正确: Iris-versicolor\n",
      "Sample 9  - 预测: Iris-setosa 正确: Iris-setosa\n",
      "Sample 10  - 预测: Iris-versicolor 正确: Iris-versicolor\n",
      "Sample 11  - 预测: Iris-setosa 正确: Iris-setosa\n",
      "Sample 12  - 预测: Iris-setosa 正确: Iris-setosa\n",
      "Sample 13  - 预测: Iris-virginica 正确: Iris-virginica\n",
      "Sample 14  - 预测: Iris-versicolor 正确: Iris-versicolor\n",
      "Sample 15  - 预测: Iris-virginica 正确: Iris-virginica\n",
      "Sample 16  - 预测: Iris-virginica 正确: Iris-virginica\n",
      "Sample 17  - 预测: Iris-virginica 正确: Iris-virginica\n",
      "Sample 18  - 预测: Iris-versicolor 正确: Iris-versicolor\n",
      "Sample 19  - 预测: Iris-versicolor 正确: Iris-versicolor\n",
      "Sample 20  - 预测: Iris-virginica 正确: Iris-virginica\n",
      "Sample 21  - 预测: Iris-virginica 正确: Iris-virginica\n",
      "Sample 22  - 预测: Iris-versicolor 正确: Iris-versicolor\n",
      "Sample 23  - 预测: Iris-setosa 正确: Iris-setosa\n",
      "Sample 24  - 预测: Iris-versicolor 正确: Iris-versicolor\n",
      "Sample 25  - 预测: Iris-setosa 正确: Iris-setosa\n",
      "Sample 26  - 预测: Iris-setosa 正确: Iris-setosa\n",
      "Sample 27  - 预测: Iris-virginica 正确: Iris-virginica\n",
      "Sample 28  - 预测: Iris-setosa 正确: Iris-setosa\n",
      "Sample 29  - 预测: Iris-versicolor 正确: Iris-versicolor\n"
     ]
    }
   ],
   "source": [
    "# 运行会话，训练模型\n",
    "with tf.Session() as sess:\n",
    "    # 运行初始化\n",
    "    sess.run(init)\n",
    "\n",
    "    # 遍历测试数据\n",
    "    for i in range(len(Xtest)):\n",
    "        # 获取当前样本的最近邻索引\n",
    "        nn_index = sess.run(pred, feed_dict={xtr: Xtrain, xte: Xtest[i]})   #向占位符传入训练数据\n",
    "        # 最近邻分类标签与真实标签比较\n",
    "       # print(\"Test\", i, \"Prediction:\", np.argmax(Ytrain[nn_index]), \"True Class:\", np.argmax(Ytest[i])) \n",
    "        print(\"Sample\", i, \" - 预测:\", Ytrain[nn_index], \"正确:\", Ytest[i])\n",
    "        # 计算准确率\n",
    "        if Ytrain[nn_index] == Ytest[i]:\n",
    "            accuracy += 1. / len(Xtest)"
   ]
  },
  {
   "cell_type": "code",
   "execution_count": 9,
   "metadata": {},
   "outputs": [
    {
     "name": "stdout",
     "output_type": "stream",
     "text": [
      "Done!\n",
      "Accuracy: 0.9999999999999999\n"
     ]
    }
   ],
   "source": [
    "print(\"Done!\")\n",
    "print(\"Accuracy:\", accuracy)"
   ]
  }
 ],
 "metadata": {
  "kernelspec": {
   "display_name": "Python 3",
   "language": "python",
   "name": "python3"
  },
  "language_info": {
   "codemirror_mode": {
    "name": "ipython",
    "version": 3
   },
   "file_extension": ".py",
   "mimetype": "text/x-python",
   "name": "python",
   "nbconvert_exporter": "python",
   "pygments_lexer": "ipython3",
   "version": "3.6.4"
  }
 },
 "nbformat": 4,
 "nbformat_minor": 2
}
